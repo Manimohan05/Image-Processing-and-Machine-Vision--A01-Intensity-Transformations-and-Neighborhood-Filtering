{
 "cells": [
  {
   "cell_type": "markdown",
   "metadata": {},
   "source": [
    "Write a program to zoom images by a given factor s ∈ [0,10]. You must use a function to zoom the image,\n",
    "which can handle\n",
    "(a) nearest-neighbor, and\n",
    "(b) bilinear interpolation\n",
    "I have included four images, two large originals, and there zoomed-out versions. Test you algorithm by\n",
    "computing the normalized sum of squared difference (SSD) when you scale-up the given small images by a\n",
    "factor of 4 by comparing with the original images. "
   ]
  },
  {
   "cell_type": "code",
   "execution_count": 4,
   "metadata": {},
   "outputs": [
    {
     "ename": "ValueError",
     "evalue": "operands could not be broadcast together with shapes (580,577) (147,144) ",
     "output_type": "error",
     "traceback": [
      "\u001b[1;31m---------------------------------------------------------------------------\u001b[0m",
      "\u001b[1;31mValueError\u001b[0m                                Traceback (most recent call last)",
      "Cell \u001b[1;32mIn[4], line 58\u001b[0m\n\u001b[0;32m     55\u001b[0m zoomed_large \u001b[39m=\u001b[39m cv2\u001b[39m.\u001b[39mimread(\u001b[39m'\u001b[39m\u001b[39mzoomed_large.jpg\u001b[39m\u001b[39m'\u001b[39m, cv2\u001b[39m.\u001b[39mIMREAD_GRAYSCALE)\n\u001b[0;32m     57\u001b[0m \u001b[39m# Compute normalized SSD for small images\u001b[39;00m\n\u001b[1;32m---> 58\u001b[0m ssd_small_nn \u001b[39m=\u001b[39m normalized_ssd(original_small, zoom_nearest_neighbor(zoomed_small, \u001b[39m1\u001b[39m\u001b[39m/\u001b[39m\u001b[39m4\u001b[39m))\n\u001b[0;32m     59\u001b[0m ssd_small_bi \u001b[39m=\u001b[39m normalized_ssd(original_small, zoom_bilinear(zoomed_small, \u001b[39m1\u001b[39m\u001b[39m/\u001b[39m\u001b[39m4\u001b[39m))\n\u001b[0;32m     61\u001b[0m \u001b[39m# Compute normalized SSD for large images\u001b[39;00m\n",
      "Cell \u001b[1;32mIn[4], line 47\u001b[0m, in \u001b[0;36mnormalized_ssd\u001b[1;34m(image1, image2)\u001b[0m\n\u001b[0;32m     46\u001b[0m \u001b[39mdef\u001b[39;00m \u001b[39mnormalized_ssd\u001b[39m(image1, image2):\n\u001b[1;32m---> 47\u001b[0m     \u001b[39mreturn\u001b[39;00m np\u001b[39m.\u001b[39msum((image1 \u001b[39m-\u001b[39m image2)\u001b[39m*\u001b[39m\u001b[39m*\u001b[39m\u001b[39m2\u001b[39m) \u001b[39m/\u001b[39m image1\u001b[39m.\u001b[39msize\n",
      "\u001b[1;31mValueError\u001b[0m: operands could not be broadcast together with shapes (580,577) (147,144) "
     ]
    }
   ],
   "source": [
    "import cv2\n",
    "import numpy as np\n",
    "\n",
    "def zoom_nearest_neighbor(image, scale_factor):\n",
    "    height, width = image.shape\n",
    "    new_height = int(height * scale_factor)\n",
    "    new_width = int(width * scale_factor)\n",
    "    zoomed_image = np.zeros((new_height, new_width), dtype=np.uint8)\n",
    "    \n",
    "    for i in range(new_height):\n",
    "        for j in range(new_width):\n",
    "            src_i = int(i / scale_factor)\n",
    "            src_j = int(j / scale_factor)\n",
    "            zoomed_image[i, j] = image[src_i, src_j]\n",
    "    \n",
    "    return zoomed_image\n",
    "\n",
    "def zoom_bilinear(image, scale_factor):\n",
    "    height, width = image.shape\n",
    "    new_height = int(height * scale_factor)\n",
    "    new_width = int(width * scale_factor)\n",
    "    zoomed_image = np.zeros((new_height, new_width), dtype=np.uint8)\n",
    "    \n",
    "    for i in range(new_height):\n",
    "        for j in range(new_width):\n",
    "            src_i = i / scale_factor\n",
    "            src_j = j / scale_factor\n",
    "            i1, i2 = int(np.floor(src_i)), int(np.ceil(src_i))\n",
    "            j1, j2 = int(np.floor(src_j)), int(np.ceil(src_j))\n",
    "            \n",
    "            if i2 >= height:\n",
    "                i2 = height - 1\n",
    "            if j2 >= width:\n",
    "                j2 = width - 1\n",
    "            \n",
    "            di = src_i - i1\n",
    "            dj = src_j - j1\n",
    "            \n",
    "            pixel_value = (1 - dj) * ((1 - di) * image[i1, j1] + di * image[i2, j1]) + \\\n",
    "                          dj * ((1 - di) * image[i1, j2] + di * image[i2, j2])\n",
    "            \n",
    "            zoomed_image[i, j] = int(pixel_value)\n",
    "    \n",
    "    return zoomed_image\n",
    "\n",
    "def normalized_ssd(image1, image2):\n",
    "    return np.sum((image1 - image2)**2) / image1.size\n",
    "\n",
    "# Load original small and large images\n",
    "original_small = cv2.imread('original_small.jpg', cv2.IMREAD_GRAYSCALE)\n",
    "original_large = cv2.imread('original_large.jpg', cv2.IMREAD_GRAYSCALE)\n",
    "\n",
    "# Load zoomed small and large images\n",
    "zoomed_small = cv2.imread('zoomed_small.jpg', cv2.IMREAD_GRAYSCALE)\n",
    "zoomed_large = cv2.imread('zoomed_large.jpg', cv2.IMREAD_GRAYSCALE)\n",
    "\n",
    "# Compute normalized SSD for small images\n",
    "ssd_small_nn = normalized_ssd(original_small, zoom_nearest_neighbor(zoomed_small, 1/4))\n",
    "ssd_small_bi = normalized_ssd(original_small, zoom_bilinear(zoomed_small, 1/4))\n",
    "\n",
    "# Compute normalized SSD for large images\n",
    "ssd_large_nn = normalized_ssd(original_large, zoom_nearest_neighbor(zoomed_large, 1/4))\n",
    "ssd_large_bi = normalized_ssd(original_large, zoom_bilinear(zoomed_large, 1/4))\n",
    "\n",
    "print(\"Original Small Image Shape:\", original_small.shape if original_small is not None else \"Image not loaded\")\n",
    "print(\"Original Large Image Shape:\", original_large.shape if original_large is not None else \"Image not loaded\")\n",
    "print(\"Zoomed Small Image Shape:\", zoomed_small.shape if zoomed_small is not None else \"Image not loaded\")\n",
    "print(\"Zoomed Large Image Shape:\", zoomed_large.shape if zoomed_large is not None else \"Image not loaded\")\n"
   ]
  }
 ],
 "metadata": {
  "kernelspec": {
   "display_name": "patrec",
   "language": "python",
   "name": "patrec"
  },
  "language_info": {
   "codemirror_mode": {
    "name": "ipython",
    "version": 3
   },
   "file_extension": ".py",
   "mimetype": "text/x-python",
   "name": "python",
   "nbconvert_exporter": "python",
   "pygments_lexer": "ipython3",
   "version": "3.11.4"
  },
  "orig_nbformat": 4
 },
 "nbformat": 4,
 "nbformat_minor": 2
}
